{
 "cells": [
  {
   "attachments": {},
   "cell_type": "markdown",
   "metadata": {},
   "source": [
    "## Clases y Programación Orientada a Objetos"
   ]
  },
  {
   "attachments": {},
   "cell_type": "markdown",
   "metadata": {},
   "source": [
    "1) Crear la clase vehículo que contenga los atributos:<br>\n",
    "Color<br>\n",
    "Si es moto, auto, camioneta ó camión<br>\n",
    "Cilindrada del motor"
   ]
  },
  {
   "cell_type": "code",
   "execution_count": null,
   "metadata": {},
   "outputs": [],
   "source": [
    "class vehiculo():\n",
    "    def __init__(self, color, tipo, cilindrada):  \n",
    "        self.color = color\n",
    "        self.tipo = tipo\n",
    "        self.cilindrada = cilindrada\n",
    "        "
   ]
  },
  {
   "attachments": {},
   "cell_type": "markdown",
   "metadata": {},
   "source": [
    "2) A la clase Vehiculo creada en el punto 1, agregar los siguientes métodos:<br>\n",
    "Acelerar<br>\n",
    "Frenar<br>\n",
    "Doblar<br>"
   ]
  },
  {
   "cell_type": "code",
   "execution_count": 6,
   "metadata": {},
   "outputs": [],
   "source": [
    "class vehiculo():\n",
    "    def __init__(self, color, tipo, cilindrada):  \n",
    "        self.color = color\n",
    "        self.tipo = tipo\n",
    "        self.cilindrada = cilindrada\n",
    "        velocidad = 0\n",
    "        direccion: 0\n",
    "    def Acelerar(self, vel):\n",
    "        self.velocidad =+ vel\n",
    "    \n",
    "    def Frenar(self, vel):\n",
    "        self.velocidad =- vel\n",
    "\n",
    "    def Doblar(self, grados):\n",
    "        self.direccion = grados\n"
   ]
  },
  {
   "attachments": {},
   "cell_type": "markdown",
   "metadata": {},
   "source": [
    "3) Instanciar 3 objetos de la clase vehículo y ejecutar sus métodos, probar luego el resultado"
   ]
  },
  {
   "cell_type": "code",
   "execution_count": 7,
   "metadata": {},
   "outputs": [],
   "source": [
    "moto = vehiculo(\"Azul\", \"Moto\", 2)\n",
    "autobus = vehiculo(\"Rojo\", \"Autobus\", 3.6)\n",
    "auto = vehiculo(\"Negro\", \"Carro\", 3)\n",
    "\n",
    "moto.Acelerar(20)\n",
    "autobus.Acelerar(10)\n",
    "auto.Acelerar(16)\n",
    "\n",
    "moto.Frenar(20)\n",
    "autobus.Frenar(8)\n",
    "\n",
    "auto.Doblar(95)\n"
   ]
  },
  {
   "attachments": {},
   "cell_type": "markdown",
   "metadata": {},
   "source": [
    "4) Agregar a la clase Vehiculo, un método que muestre su estado, es decir, a que velocidad se encuentra y su dirección. Y otro método que muestre color, tipo y cilindrada"
   ]
  },
  {
   "cell_type": "code",
   "execution_count": 9,
   "metadata": {},
   "outputs": [],
   "source": [
    "class vehiculo():\n",
    "    def __init__(self, color, tipo, cilindrada):  \n",
    "        self.color = color\n",
    "        self.tipo = tipo\n",
    "        self.cilindrada = cilindrada\n",
    "        velocidad = 0\n",
    "        direccion: 0\n",
    "    def Acelerar(self, vel):\n",
    "        self.velocidad =+ vel\n",
    "    \n",
    "    def Frenar(self, vel):\n",
    "        self.velocidad =- vel\n",
    "\n",
    "    def Doblar(self, grados):\n",
    "        self.direccion = grados\n",
    "\n",
    "    def show_detalles(self):\n",
    "        print(\"tipo: \" , self.tipo , \"color:\" , self.color , \"cilindrado:\" , self.cilindrada)\n",
    "    \n",
    "    def show_velocidad(self):\n",
    "        print(\"La velocidad actual del veiculo es:\" , self.velocidad )\n",
    "\n",
    "    def show_direccion(self):\n",
    "        print(\"La direciion es de: \" + str(self.direccion) + \"º\")\n",
    "    \n"
   ]
  },
  {
   "attachments": {},
   "cell_type": "markdown",
   "metadata": {},
   "source": [
    "5) Crear una clase que permita utilizar las funciones creadas en la práctica del módulo 7<br>\n",
    "Verificar Primo<br>\n",
    "Valor modal<br>\n",
    "Conversión grados<br>\n",
    "Factorial<br>"
   ]
  },
  {
   "cell_type": "code",
   "execution_count": 4,
   "metadata": {},
   "outputs": [],
   "source": [
    "class Funciones():\n",
    "\n",
    "    def __init__(self) -> None:\n",
    "        pass\n",
    "\n",
    "    def Fprimo(self, nro): #Berificar si un numero es primo\n",
    "        resp = True\n",
    "        for i in range(2, nro):\n",
    "            if nro%i == 0:\n",
    "                resp=False\n",
    "                break\n",
    "        return resp\n",
    "\n",
    "    def R_numero(self, lista): #Numero maximo en una lista\n",
    "\n",
    "        elementos = []\n",
    "        repeticiones = []\n",
    "        if len(lista) == 0:\n",
    "            return None\n",
    "        for num in lista:\n",
    "          if num in elementos:\n",
    "            i = elementos.index(num)\n",
    "            repeticiones[i] += 1\n",
    "          else:\n",
    "               elementos.append(num)\n",
    "               repeticiones.append(1)\n",
    "          elemt = elementos[0]\n",
    "          maximo = repeticiones[0]\n",
    "        for i, ele in enumerate(repeticiones):\n",
    "         if  ele > maximo:\n",
    "            maximo = ele\n",
    "            elemt = elementos[i]\n",
    "        return elemt, maximo\n",
    "\n",
    "    def convertir_grados(self, gra, com, grados):\n",
    "      resultado = 0\n",
    "      grado_entrada = \"\"\n",
    "      grado_salida = \"\"\n",
    "      if int(gra) == 1: #se comprueva que tipo de grado fué introducido\n",
    "          grado_entrada = \"ºC\"\n",
    "          if int(com) == 2: # se comprueva a que tipo de grado se quiere combertir\n",
    "              grado_salida = \"ºF\"\n",
    "              resultado = (int(grados) * 9/5) + 32\n",
    "          elif int(com) == 3:\n",
    "              grado_salida = \"ºK\"\n",
    "              resultado = (int(grados) + 273.15)\n",
    "          elif int(com) == 1:\n",
    "              grado_salida = \"ºC\"\n",
    "              resultado = grados\n",
    "          else:\n",
    "              print(\"Opcion invalida\")\n",
    "              return None\n",
    "      elif int(gra) == 2:\n",
    "          grado_entrada = \"ºF\"\n",
    "          if int(com) == 2: # se comprueva a que tipo de grado se quiere combertir\n",
    "              grado_salida = \"ºF\"\n",
    "              resultado = grados\n",
    "          elif int(com) == 3:\n",
    "              grado_salida = \"ºK\"\n",
    "              resultado = (int(grados) - 32) * 5/9\n",
    "              resultado = resultado + 273.15\n",
    "          elif int(com) == 1:\n",
    "              grado_salida = \"ºC\"\n",
    "              resultado = (int(grados) - 32) * 5/9\n",
    "          else:\n",
    "              print(\"Opcion invalida\")\n",
    "              return None\n",
    "      elif int(gra) == 3:\n",
    "          grado_entrada = \"ºK\"\n",
    "          if int(com) == 2: # se comprueva a que tipo de grado se quiere combertir\n",
    "              grado_salida = \"ºF\"\n",
    "              resultado = grados - 273.15\n",
    "              resultado = (resultado * 9/5) + 32\n",
    "          elif int(com) == 3:\n",
    "              grado_salida = \"ºK\"\n",
    "              resultado = int(grados)\n",
    "          elif int(com) == 1:\n",
    "              grado_salida = \"ºC\"\n",
    "              resultado = grados - 273.15\n",
    "          else:\n",
    "              print(\"Opcion invalida\")\n",
    "              return None\n",
    "      else:\n",
    "          print(\"Opcion invalida\")\n",
    "          return None\n",
    "      return resultado\n",
    "\n",
    "    def Factorial(self, num):\n",
    "      if num <= 0 or type(num) != int:\n",
    "          print(\"Opcion invalida, debe colocar un numero entero mayor a 0\")\n",
    "      else:\n",
    "        fac = 1\n",
    "        for i in range(1, num+1):\n",
    "          fac *= i\n",
    "        return fac\n",
    "\n",
    "    \n",
    "\n",
    "\n",
    "\n",
    "\n",
    "\n",
    "    \n"
   ]
  },
  {
   "cell_type": "code",
   "execution_count": 5,
   "metadata": {},
   "outputs": [],
   "source": [
    "h = Funciones()"
   ]
  },
  {
   "attachments": {},
   "cell_type": "markdown",
   "metadata": {},
   "source": [
    "6) Probar las funciones incorporadas en la clase del punto 5"
   ]
  },
  {
   "cell_type": "code",
   "execution_count": 6,
   "metadata": {},
   "outputs": [
    {
     "data": {
      "text/plain": [
       "True"
      ]
     },
     "execution_count": 6,
     "metadata": {},
     "output_type": "execute_result"
    }
   ],
   "source": [
    "h.Fprimo(2)"
   ]
  },
  {
   "cell_type": "code",
   "execution_count": 7,
   "metadata": {},
   "outputs": [
    {
     "data": {
      "text/plain": [
       "(3, 4)"
      ]
     },
     "execution_count": 7,
     "metadata": {},
     "output_type": "execute_result"
    }
   ],
   "source": [
    "likta = [1, 2, 3, 5, 3, 4, 3, 6, 3,]\n",
    "\n",
    "h.R_numero(likta)"
   ]
  },
  {
   "cell_type": "code",
   "execution_count": 8,
   "metadata": {},
   "outputs": [
    {
     "data": {
      "text/plain": [
       "68.0"
      ]
     },
     "execution_count": 8,
     "metadata": {},
     "output_type": "execute_result"
    }
   ],
   "source": [
    "h.convertir_grados(1, 2, 20)"
   ]
  },
  {
   "cell_type": "code",
   "execution_count": 9,
   "metadata": {},
   "outputs": [
    {
     "data": {
      "text/plain": [
       "720"
      ]
     },
     "execution_count": 9,
     "metadata": {},
     "output_type": "execute_result"
    }
   ],
   "source": [
    "h.Factorial(6)"
   ]
  },
  {
   "attachments": {},
   "cell_type": "markdown",
   "metadata": {},
   "source": [
    "7) Es necesario que la clase creada en el punto 5 contenga una lista, sobre la cual se apliquen las funciones incorporadas"
   ]
  },
  {
   "cell_type": "code",
   "execution_count": 14,
   "metadata": {},
   "outputs": [],
   "source": [
    "class Funciones():\n",
    "\n",
    "    def __init__(self, lista_ ):\n",
    "        self.lista = lista_\n",
    "\n",
    "\n",
    "\n",
    "\n",
    "    def Fprimo(self, nro): #Berificar si un numero es primo\n",
    "        resp = True\n",
    "        for i in range(2, nro):\n",
    "            if nro%i == 0:\n",
    "                resp=False\n",
    "                break\n",
    "        return resp\n",
    "\n",
    "    def R_numero(self, lista): #Numero maximo en una lista\n",
    "\n",
    "        elementos = []\n",
    "        repeticiones = []\n",
    "        if len(lista) == 0:\n",
    "            return None\n",
    "        for num in lista:\n",
    "          if num in elementos:\n",
    "            i = elementos.index(num)\n",
    "            repeticiones[i] += 1\n",
    "          else:\n",
    "               elementos.append(num)\n",
    "               repeticiones.append(1)\n",
    "          elemt = elementos[0]\n",
    "          maximo = repeticiones[0]\n",
    "        for i, ele in enumerate(repeticiones):\n",
    "         if  ele > maximo:\n",
    "            maximo = ele\n",
    "            elemt = elementos[i]\n",
    "        return elemt, maximo\n",
    "\n",
    "    def convertir_grados(self, gra, com, grados):\n",
    "      resultado = 0\n",
    "      grado_entrada = \"\"\n",
    "      grado_salida = \"\"\n",
    "      if int(gra) == 1: #se comprueva que tipo de grado fué introducido\n",
    "          grado_entrada = \"ºC\"\n",
    "          if int(com) == 2: # se comprueva a que tipo de grado se quiere combertir\n",
    "              grado_salida = \"ºF\"\n",
    "              resultado = (int(grados) * 9/5) + 32\n",
    "          elif int(com) == 3:\n",
    "              grado_salida = \"ºK\"\n",
    "              resultado = (int(grados) + 273.15)\n",
    "          elif int(com) == 1:\n",
    "              grado_salida = \"ºC\"\n",
    "              resultado = grados\n",
    "          else:\n",
    "              print(\"Opcion invalida\")\n",
    "              return None\n",
    "      elif int(gra) == 2:\n",
    "          grado_entrada = \"ºF\"\n",
    "          if int(com) == 2: # se comprueva a que tipo de grado se quiere combertir\n",
    "              grado_salida = \"ºF\"\n",
    "              resultado = grados\n",
    "          elif int(com) == 3:\n",
    "              grado_salida = \"ºK\"\n",
    "              resultado = (int(grados) - 32) * 5/9\n",
    "              resultado = resultado + 273.15\n",
    "          elif int(com) == 1:\n",
    "              grado_salida = \"ºC\"\n",
    "              resultado = (int(grados) - 32) * 5/9\n",
    "          else:\n",
    "              print(\"Opcion invalida\")\n",
    "              return None\n",
    "      elif int(gra) == 3:\n",
    "          grado_entrada = \"ºK\"\n",
    "          if int(com) == 2: # se comprueva a que tipo de grado se quiere combertir\n",
    "              grado_salida = \"ºF\"\n",
    "              resultado = grados - 273.15\n",
    "              resultado = (resultado * 9/5) + 32\n",
    "          elif int(com) == 3:\n",
    "              grado_salida = \"ºK\"\n",
    "              resultado = int(grados)\n",
    "          elif int(com) == 1:\n",
    "              grado_salida = \"ºC\"\n",
    "              resultado = grados - 273.15\n",
    "          else:\n",
    "              print(\"Opcion invalida\")\n",
    "              return None\n",
    "      else:\n",
    "          print(\"Opcion invalida\")\n",
    "          return None\n",
    "      return resultado\n",
    "\n",
    "    def Factorial(self, num):\n",
    "      if num <= 0 or type(num) != int:\n",
    "          print(\"Opcion invalida, debe colocar un numero entero mayor a 0\")\n",
    "      else:\n",
    "        fac = 1\n",
    "        for i in range(1, num+1):\n",
    "          fac *= i\n",
    "        return fac\n",
    "      \n",
    "    def L_FPrimos(self):\n",
    "        for i in self.lista:\n",
    "            if (self.Fprimo(i)):\n",
    "                print(\"El numero\" , i , \"es primo\")\n",
    "            else:\n",
    "                print(\"El numero\" , i , \"no es primo\")\n",
    "\n",
    "    def L_Cgrados(self, ent, sal):\n",
    "        for i in self.lista:\n",
    "            print(self.convertir_grados(ent, sal, i))\n",
    "        \n",
    "    def L_Factorial(self):\n",
    "        for i in self.lista:\n",
    "            print(\"El factorial de\", i , \"es\", self.Factorial(i))\n"
   ]
  },
  {
   "cell_type": "code",
   "execution_count": 4,
   "metadata": {},
   "outputs": [],
   "source": [
    "h2 = Funciones([1, 2, 3, 4, 5, 6, 7])\n",
    "\n"
   ]
  },
  {
   "cell_type": "code",
   "execution_count": 15,
   "metadata": {},
   "outputs": [
    {
     "ename": "TypeError",
     "evalue": "'list' object cannot be interpreted as an integer",
     "output_type": "error",
     "traceback": [
      "\u001b[1;31m---------------------------------------------------------------------------\u001b[0m",
      "\u001b[1;31mTypeError\u001b[0m                                 Traceback (most recent call last)",
      "Cell \u001b[1;32mIn[15], line 1\u001b[0m\n\u001b[1;32m----> 1\u001b[0m h2\u001b[39m.\u001b[39;49mL_Factorial()\n",
      "Cell \u001b[1;32mIn[3], line 112\u001b[0m, in \u001b[0;36mFunciones.L_Factorial\u001b[1;34m(self)\u001b[0m\n\u001b[0;32m    111\u001b[0m \u001b[39mdef\u001b[39;00m \u001b[39mL_Factorial\u001b[39m(\u001b[39mself\u001b[39m):\n\u001b[1;32m--> 112\u001b[0m     \u001b[39mfor\u001b[39;00m i \u001b[39min\u001b[39;00m \u001b[39mrange\u001b[39;49m(\u001b[39mself\u001b[39;49m\u001b[39m.\u001b[39;49mlista):\n\u001b[0;32m    113\u001b[0m         \u001b[39mprint\u001b[39m(\u001b[39m\"\u001b[39m\u001b[39mEl factorial de\u001b[39m\u001b[39m\"\u001b[39m, i , \u001b[39m\"\u001b[39m\u001b[39mes\u001b[39m\u001b[39m\"\u001b[39m, \u001b[39mself\u001b[39m\u001b[39m.\u001b[39mFactorial(i))\n",
      "\u001b[1;31mTypeError\u001b[0m: 'list' object cannot be interpreted as an integer"
     ]
    }
   ],
   "source": [
    "h2.L_Factorial()"
   ]
  },
  {
   "cell_type": "code",
   "execution_count": 5,
   "metadata": {},
   "outputs": [
    {
     "name": "stdout",
     "output_type": "stream",
     "text": [
      "El numero 1 es primo\n",
      "El numero 2 es primo\n",
      "El numero 3 es primo\n",
      "El numero 4 no es primo\n",
      "El numero 5 es primo\n",
      "El numero 6 no es primo\n",
      "El numero 7 es primo\n"
     ]
    }
   ],
   "source": [
    "h2.L_FPrimos()"
   ]
  },
  {
   "cell_type": "code",
   "execution_count": 13,
   "metadata": {},
   "outputs": [
    {
     "name": "stdout",
     "output_type": "stream",
     "text": [
      "33.8\n",
      "35.6\n",
      "37.4\n",
      "39.2\n",
      "41.0\n",
      "42.8\n",
      "44.6\n"
     ]
    }
   ],
   "source": [
    "h2.L_Cgrados(1, 2)"
   ]
  },
  {
   "attachments": {},
   "cell_type": "markdown",
   "metadata": {},
   "source": [
    "8) Crear un archivo .py aparte y ubicar allí la clase generada en el punto anterior. Luego realizar la importación del módulo y probar alguna de sus funciones"
   ]
  },
  {
   "cell_type": "code",
   "execution_count": 36,
   "metadata": {},
   "outputs": [],
   "source": [
    "from funciones import *\n"
   ]
  },
  {
   "cell_type": "code",
   "execution_count": 6,
   "metadata": {},
   "outputs": [],
   "source": [
    "h3 = Funciones([1,2,4,2,4,3,8])"
   ]
  },
  {
   "cell_type": "code",
   "execution_count": 9,
   "metadata": {},
   "outputs": [
    {
     "name": "stdout",
     "output_type": "stream",
     "text": [
      "El numero 1 es primo\n",
      "El numero 2 es primo\n",
      "El numero 4 no es primo\n",
      "El numero 2 es primo\n",
      "El numero 4 no es primo\n",
      "El numero 3 es primo\n",
      "El numero 8 no es primo\n"
     ]
    }
   ],
   "source": [
    "h3.L_FPrimos()"
   ]
  }
 ],
 "metadata": {
  "interpreter": {
   "hash": "c85384e4cb51c8b72350f3a8712cc8351fdc3955e32a27f9b60c6242ab125f01"
  },
  "kernelspec": {
   "display_name": "Python 3 (ipykernel)",
   "language": "python",
   "name": "python3"
  },
  "language_info": {
   "codemirror_mode": {
    "name": "ipython",
    "version": 3
   },
   "file_extension": ".py",
   "mimetype": "text/x-python",
   "name": "python",
   "nbconvert_exporter": "python",
   "pygments_lexer": "ipython3",
   "version": "3.11.4"
  }
 },
 "nbformat": 4,
 "nbformat_minor": 4
}
