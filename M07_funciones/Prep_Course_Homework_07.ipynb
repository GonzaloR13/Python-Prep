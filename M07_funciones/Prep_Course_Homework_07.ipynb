{
 "cells": [
  {
   "attachments": {},
   "cell_type": "markdown",
   "metadata": {},
   "source": [
    "## Funciones"
   ]
  },
  {
   "attachments": {},
   "cell_type": "markdown",
   "metadata": {},
   "source": [
    "1) Crear una función que reciba un número como parámetro y devuelva True si es primo y False si no lo es"
   ]
  },
  {
   "cell_type": "code",
   "execution_count": 7,
   "metadata": {},
   "outputs": [
    {
     "name": "stdout",
     "output_type": "stream",
     "text": [
      "False\n"
     ]
    }
   ],
   "source": [
    "def Fprimo(nro):\n",
    "    resp = True\n",
    "    for i in range(2,nro):\n",
    "        if nro%i == 0:\n",
    "            resp=False\n",
    "            break\n",
    "    return resp\n",
    "\n",
    "print(Fprimo(15))\n"
   ]
  },
  {
   "attachments": {},
   "cell_type": "markdown",
   "metadata": {},
   "source": [
    "2) Utilizando la función del punto 1, realizar otra función que reciba de parámetro una lista de números y devuelva sólo aquellos que son primos en otra lista"
   ]
  },
  {
   "cell_type": "code",
   "execution_count": 16,
   "metadata": {},
   "outputs": [
    {
     "name": "stdout",
     "output_type": "stream",
     "text": [
      "[0, 1, 2, 3, 5, 7, 11, 13, 17, 19, 23, 29, 31, 37, 41, 43, 47, 53, 59, 61, 67, 71, 73, 79, 83, 89, 97, 101, 103, 107, 109, 113, 127, 131, 137, 139, 149, 151]\n"
     ]
    }
   ],
   "source": [
    "def lista_prima(lista):\n",
    "    new_lista = []\n",
    "    for elemento in lista:\n",
    "        if Fprimo(int(elemento)):\n",
    "            new_lista.append(elemento)\n",
    "    return new_lista\n",
    "    \n",
    "listas = [ i for i in range(0,156)]\n",
    "lista_2 = [1, 2, 3, 4, 5, 6, 7, 8, 9, 10, 11, 12, 13, 14, 15, 16, 17, 18, 19, 20, 21]\n",
    "\n",
    "lista_primos = lista_prima(listas)\n",
    "\n",
    "print(lista_primos)\n"
   ]
  },
  {
   "attachments": {},
   "cell_type": "markdown",
   "metadata": {},
   "source": [
    "3) Crear una función que al recibir una lista de números, devuelva el que más se repite y cuántas veces lo hace. Si hay más de un \"más repetido\", que devuelva cualquiera"
   ]
  },
  {
   "cell_type": "code",
   "execution_count": 2,
   "metadata": {},
   "outputs": [
    {
     "name": "stdout",
     "output_type": "stream",
     "text": [
      "(2, 4)\n"
     ]
    }
   ],
   "source": [
    "def R_numero(lista):\n",
    "    elementos = []\n",
    "    repeticiones = []\n",
    "    if len(lista) == 0:\n",
    "       return None\n",
    "    for num in lista:\n",
    "      if num in elementos:\n",
    "        i = elementos.index(num)\n",
    "        repeticiones[i] += 1\n",
    "      else:\n",
    "        elementos.append(num)\n",
    "        repeticiones.append(1)\n",
    "    elemt = elementos[0]\n",
    "    maximo = repeticiones[0]\n",
    "    for i, ele in enumerate(repeticiones):\n",
    "     if  ele > maximo:\n",
    "         maximo = ele\n",
    "         elemt = elementos[i]\n",
    "    return elemt, maximo\n",
    "\n",
    "\n",
    "lista_num = [1, 2, 6, 7, 1, 5, 6, 4, 2, 2, 2]\n",
    "\n",
    "listaz = R_numero(lista_num)\n",
    "\n",
    "print(listaz)\n",
    "        \n",
    "    "
   ]
  },
  {
   "attachments": {},
   "cell_type": "markdown",
   "metadata": {},
   "source": [
    "4) Crear una función que convierta entre grados Celsius, Farenheit y Kelvin<br>\n",
    "Fórmula 1\t: (°C × 9/5) + 32 = °F<br>\n",
    "Fórmula 2\t: °C + 273.15 = °K<br>\n",
    "Debe recibir 3 parámetros: el valor, la medida de orígen y la medida de destino\n"
   ]
  },
  {
   "cell_type": "code",
   "execution_count": 2,
   "metadata": {},
   "outputs": [],
   "source": [
    "def convertir_grados(gra, com , grados):\n",
    "    resultado = 0\n",
    "    grado_entrada = \"\"\n",
    "    grado_salida = \"\"\n",
    "    if int(gra) == 1: #se comprueva que tipo de grado fué introducido\n",
    "        grado_entrada = \"ºC\"\n",
    "        if int(com) == 2: # se comprueva a que tipo de grado se quiere combertir\n",
    "            grado_salida = \"ºF\"\n",
    "            resultado = (int(grados) * 9/5) + 32\n",
    "        elif int(com) == 3:\n",
    "            grado_salida = \"ºK\"\n",
    "            resultado = (int(grados) + 273.15)\n",
    "        elif int(com) == 1:\n",
    "            grado_salida = \"ºC\"\n",
    "            resultado = grados\n",
    "        else:\n",
    "            print(\"Opcion invalida\")\n",
    "            return None\n",
    "    elif int(gra) == 2:\n",
    "        grado_entrada = \"ºF\"\n",
    "        if int(com) == 2: # se comprueva a que tipo de grado se quiere combertir\n",
    "            grado_salida = \"ºF\"\n",
    "            resultado = grados\n",
    "        elif int(com) == 3:\n",
    "            grado_salida = \"ºK\"\n",
    "            resultado = (int(grados) - 32) * 5/9\n",
    "            resultado = resultado + 273.15\n",
    "        elif int(com) == 1:\n",
    "            grado_salida = \"ºC\"\n",
    "            resultado = (int(grados) - 32) * 5/9\n",
    "        else:\n",
    "            print(\"Opcion invalida\")\n",
    "            return None\n",
    "    elif int(gra) == 3:\n",
    "        grado_entrada = \"ºK\"\n",
    "        if int(com) == 2: # se comprueva a que tipo de grado se quiere combertir\n",
    "            grado_salida = \"ºF\"\n",
    "            resultado = grados - 273.15\n",
    "            resultado = (resultado * 9/5) + 32\n",
    "        elif int(com) == 3:\n",
    "            grado_salida = \"ºK\"\n",
    "            resultado = int(grados)\n",
    "        elif int(com) == 1:\n",
    "            grado_salida = \"ºC\"\n",
    "            resultado = grados - 273.15\n",
    "        else:\n",
    "            print(\"Opcion invalida\")\n",
    "            return None\n",
    "    else:\n",
    "        print(\"Opcion invalida\")\n",
    "        return None\n",
    "    return resultado\n",
    "\n",
    "\n",
    "\n",
    "\n",
    "\n"
   ]
  },
  {
   "cell_type": "code",
   "execution_count": 17,
   "metadata": {},
   "outputs": [
    {
     "name": "stdout",
     "output_type": "stream",
     "text": [
      "0 25\n",
      "1 ºC\n",
      "2 298.15\n",
      "3 ºK\n"
     ]
    }
   ],
   "source": [
    "g = convertir_grados(1, 3, 25)\n",
    "\n",
    "for i, n in enumerate(g):\n",
    "    print(i, n)\n"
   ]
  },
  {
   "attachments": {},
   "cell_type": "markdown",
   "metadata": {},
   "source": [
    "5) Iterando una lista con los tres valores posibles de temperatura que recibe la función del punto 5, hacer un print para cada combinación de los mismos:"
   ]
  },
  {
   "cell_type": "code",
   "execution_count": 3,
   "metadata": {},
   "outputs": [
    {
     "name": "stdout",
     "output_type": "stream",
     "text": [
      "20º Celcius convertidos a Celcius son 20\n",
      "20º Celcius convertidos a Fahrenheit son 68.0\n",
      "20º Celcius convertidos a Kelvin son 293.15\n",
      "20º Fahrenheit convertidos a Celcius son -6.666666666666667\n",
      "20º Fahrenheit convertidos a Fahrenheit son 20\n",
      "20º Fahrenheit convertidos a Kelvin son 266.4833333333333\n",
      "20º Kelvin convertidos a Celcius son -253.14999999999998\n",
      "20º Kelvin convertidos a Fahrenheit son -423.66999999999996\n",
      "20º Kelvin convertidos a Kelvin son 20\n"
     ]
    }
   ],
   "source": [
    "metricas = [\"Celcius\", \"Fahrenheit\", \"Kelvin\"]\n",
    "\n",
    "for i in range(0,3):\n",
    "    for e in range(0,3):\n",
    "        print(\"20º\" , metricas[i] , \"convertidos a\" , metricas[e] , \"son\" , convertir_grados(i+1, e+1, 20))"
   ]
  },
  {
   "attachments": {},
   "cell_type": "markdown",
   "metadata": {},
   "source": [
    "6) Armar una función que devuelva el factorial de un número. Tener en cuenta que el usuario puede equivocarse y enviar de parámetro un número no entero o negativo"
   ]
  },
  {
   "cell_type": "code",
   "execution_count": 4,
   "metadata": {},
   "outputs": [],
   "source": [
    "def Factorial(num):\n",
    "    if num <= 0 or type(num) != int:\n",
    "        print(\"Opcion invalida, debe colocar un numero entero mayor a 0\")\n",
    "    else:\n",
    "      fac = 1\n",
    "      for i in range(1, num+1):\n",
    "         fac *= i\n",
    "    return fac\n"
   ]
  },
  {
   "cell_type": "code",
   "execution_count": 6,
   "metadata": {},
   "outputs": [
    {
     "data": {
      "text/plain": [
       "1"
      ]
     },
     "execution_count": 6,
     "metadata": {},
     "output_type": "execute_result"
    }
   ],
   "source": [
    "Factorial(1)"
   ]
  }
 ],
 "metadata": {
  "interpreter": {
   "hash": "c85384e4cb51c8b72350f3a8712cc8351fdc3955e32a27f9b60c6242ab125f01"
  },
  "kernelspec": {
   "display_name": "Python 3 (ipykernel)",
   "language": "python",
   "name": "python3"
  },
  "language_info": {
   "codemirror_mode": {
    "name": "ipython",
    "version": 3
   },
   "file_extension": ".py",
   "mimetype": "text/x-python",
   "name": "python",
   "nbconvert_exporter": "python",
   "pygments_lexer": "ipython3",
   "version": "3.11.4"
  }
 },
 "nbformat": 4,
 "nbformat_minor": 4
}
