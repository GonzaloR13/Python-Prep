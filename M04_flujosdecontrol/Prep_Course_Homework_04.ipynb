{
 "cells": [
  {
   "attachments": {},
   "cell_type": "markdown",
   "metadata": {},
   "source": [
    "## Flujos de Control"
   ]
  },
  {
   "attachments": {},
   "cell_type": "markdown",
   "metadata": {},
   "source": [
    "1) Crear una variable que contenga un elemento del conjunto de números enteros y luego imprimir por pantalla si es mayor o menor a cero"
   ]
  },
  {
   "cell_type": "code",
   "execution_count": 2,
   "metadata": {},
   "outputs": [
    {
     "name": "stdout",
     "output_type": "stream",
     "text": [
      " El numero es mayor a cero\n"
     ]
    }
   ],
   "source": [
    "a = 1\n",
    "\n",
    "if(a > 0):\n",
    "    print(\" El numero es mayor a cero\")\n",
    "elif(a < 0):\n",
    "    print(\"El numero es menos a cero\")\n",
    "else:\n",
    "    print(\"El numero es igual a cero\")"
   ]
  },
  {
   "attachments": {},
   "cell_type": "markdown",
   "metadata": {},
   "source": [
    "2) Crear dos variables y un condicional que informe si son del mismo tipo de dato"
   ]
  },
  {
   "cell_type": "code",
   "execution_count": 4,
   "metadata": {},
   "outputs": [
    {
     "name": "stdout",
     "output_type": "stream",
     "text": [
      "Los datos son diferentes\n",
      "True\n"
     ]
    }
   ],
   "source": [
    "a = 2\n",
    "b = \"Hola\"\n",
    "\n",
    "if(type(a) == type(b)):\n",
    "    print(\"Ambos datos son del mismo tipo\") \n",
    "else:\n",
    "    print(\"Los datos son diferentes\")\n",
    "\n"
   ]
  },
  {
   "attachments": {},
   "cell_type": "markdown",
   "metadata": {},
   "source": [
    "3) Para los valores enteros del 1 al 20, imprimir por pantalla si es par o impar"
   ]
  },
  {
   "cell_type": "code",
   "execution_count": 3,
   "metadata": {},
   "outputs": [
    {
     "name": "stdout",
     "output_type": "stream",
     "text": [
      "1 es un numero impar\n",
      "2 es un numero par\n",
      "3 es un numero impar\n",
      "4 es un numero par\n",
      "5 es un numero impar\n",
      "6 es un numero par\n",
      "7 es un numero impar\n",
      "8 es un numero par\n",
      "9 es un numero impar\n",
      "10 es un numero par\n",
      "11 es un numero impar\n",
      "12 es un numero par\n",
      "13 es un numero impar\n",
      "14 es un numero par\n",
      "15 es un numero impar\n",
      "16 es un numero par\n",
      "17 es un numero impar\n",
      "18 es un numero par\n",
      "19 es un numero impar\n",
      "20 es un numero par\n"
     ]
    }
   ],
   "source": [
    "i = 1\n",
    "\n",
    "while(i <= 20 and i >= 1):\n",
    "    if(float(i/2) == i//2):\n",
    "        print(str(i) + \" es un numero par\")\n",
    "    else:\n",
    "        print(str(i) + \" es un numero impar\")\n",
    "    i += 1\n",
    "        "
   ]
  },
  {
   "attachments": {},
   "cell_type": "markdown",
   "metadata": {},
   "source": [
    "4) En un ciclo for mostrar para los valores entre 0 y 5 el resultado de elevarlo a la potencia igual a 3"
   ]
  },
  {
   "cell_type": "code",
   "execution_count": 6,
   "metadata": {},
   "outputs": [
    {
     "name": "stdout",
     "output_type": "stream",
     "text": [
      "El valor 0 elevado a la 3 es igual a: 0\n",
      "El valor 1 elevado a la 3 es igual a: 1\n",
      "El valor 2 elevado a la 3 es igual a: 8\n",
      "El valor 3 elevado a la 3 es igual a: 27\n",
      "El valor 4 elevado a la 3 es igual a: 64\n",
      "El valor 5 elevado a la 3 es igual a: 125\n"
     ]
    }
   ],
   "source": [
    "for i in range(0,6):\n",
    "    print(\"El valor \" + str(i) + \" elevado a la 3 es igual a: \" + str(i**3))"
   ]
  },
  {
   "attachments": {},
   "cell_type": "markdown",
   "metadata": {},
   "source": [
    "5) Crear una variable que contenga un número entero y realizar un ciclo for la misma cantidad de ciclos"
   ]
  },
  {
   "cell_type": "code",
   "execution_count": 8,
   "metadata": {},
   "outputs": [
    {
     "name": "stdout",
     "output_type": "stream",
     "text": [
      "1\n",
      "2\n",
      "3\n",
      "4\n",
      "5\n",
      "6\n",
      "7\n",
      "8\n",
      "9\n",
      "10\n"
     ]
    }
   ],
   "source": [
    "e = 10\n",
    "\n",
    "for i in range(1,e+1):\n",
    "    print(i)"
   ]
  },
  {
   "attachments": {},
   "cell_type": "markdown",
   "metadata": {},
   "source": [
    "6) Utilizar un ciclo while para realizar el factorial de un número guardado en una variable, sólo si la variable contiene un número entero mayor a 0"
   ]
  },
  {
   "cell_type": "code",
   "execution_count": 15,
   "metadata": {},
   "outputs": [
    {
     "name": "stdout",
     "output_type": "stream",
     "text": [
      "El factorial de 5 es: 120\n"
     ]
    }
   ],
   "source": [
    "o = 5\n",
    "oe = o\n",
    "\n",
    "if(type(oe) == int):\n",
    "    if(oe > 0):\n",
    "        e = 1\n",
    "        while(oe >= 1):\n",
    "            e *= oe\n",
    "            oe -= 1\n",
    "        print(\"El factorial de \" + str(o) + \" es: \" + str(e))\n",
    "    else:\n",
    "        print(\"El numero debe ser mayor a 0\")\n",
    "else:\n",
    "    print(\"Debes intrudocir un numero entero\")\n"
   ]
  },
  {
   "attachments": {},
   "cell_type": "markdown",
   "metadata": {},
   "source": [
    "7) Crear un ciclo for dentro de un ciclo while"
   ]
  },
  {
   "cell_type": "code",
   "execution_count": 1,
   "metadata": {},
   "outputs": [
    {
     "name": "stdout",
     "output_type": "stream",
     "text": [
      "1 1 1 \n",
      "2 2 2 \n",
      "3 3 3 \n"
     ]
    }
   ],
   "source": [
    "\n",
    "j = 1\n",
    "while(j <= 3):\n",
    "    for i in range(1,4):\n",
    "      print(str(j), end =\" \")\n",
    "    j += 1\n",
    "    print(\"\")"
   ]
  },
  {
   "attachments": {},
   "cell_type": "markdown",
   "metadata": {},
   "source": [
    "8) Crear un ciclo while dentro de un ciclo for"
   ]
  },
  {
   "cell_type": "code",
   "execution_count": 3,
   "metadata": {},
   "outputs": [
    {
     "name": "stdout",
     "output_type": "stream",
     "text": [
      "1 2 3 \n",
      "1 2 3 \n",
      "1 2 3 \n"
     ]
    }
   ],
   "source": [
    "for i in range(1,4):\n",
    "    j = 1\n",
    "    while(j <= 3):\n",
    "    \n",
    "        print(str(j), end =\" \")\n",
    "        j += 1\n",
    "    print(\"\")"
   ]
  },
  {
   "attachments": {},
   "cell_type": "markdown",
   "metadata": {},
   "source": [
    "9) Imprimir los números primos existentes entre 0 y 30"
   ]
  },
  {
   "cell_type": "code",
   "execution_count": 9,
   "metadata": {},
   "outputs": [
    {
     "name": "stdout",
     "output_type": "stream",
     "text": [
      "0, 1, 2, 3, 5, 7, 11, 13, 17, 19, 23, 29, "
     ]
    }
   ],
   "source": [
    "top = 30\n",
    "n = 0\n",
    "primo = True\n",
    "while(n <= top):\n",
    "    for div in range(2,n):\n",
    "        if(n % div == 0):\n",
    "            primo = False\n",
    "    if(primo):\n",
    "        print(n, end=\", \")\n",
    "    else:\n",
    "        primo = True\n",
    "    n += 1"
   ]
  },
  {
   "attachments": {},
   "cell_type": "markdown",
   "metadata": {},
   "source": [
    "10) ¿Se puede mejorar el proceso del punto 9? Utilizar las sentencias break y/ó continue para tal fin"
   ]
  },
  {
   "cell_type": "code",
   "execution_count": 10,
   "metadata": {},
   "outputs": [
    {
     "name": "stdout",
     "output_type": "stream",
     "text": [
      "0, 1, 2, 3, 5, 7, 11, 13, 17, 19, 23, 29, "
     ]
    }
   ],
   "source": [
    "top = 30\n",
    "n = 0\n",
    "primo = True\n",
    "while(n <= top):\n",
    "    for div in range(2,n):\n",
    "        if(n % div == 0):\n",
    "            primo = False\n",
    "            break\n",
    "    if(primo):\n",
    "        print(n, end=\", \")\n",
    "    else:\n",
    "        primo = True\n",
    "    n += 1"
   ]
  },
  {
   "attachments": {},
   "cell_type": "markdown",
   "metadata": {},
   "source": [
    "11) En los puntos 9 y 10, se diseño un código que encuentra números primos y además se lo optimizó. ¿Es posible saber en qué medida se optimizó?"
   ]
  },
  {
   "cell_type": "code",
   "execution_count": 14,
   "metadata": {},
   "outputs": [
    {
     "name": "stdout",
     "output_type": "stream",
     "text": [
      "0, 1, 2, 3, 5, 7, 11, 13, 17, 19, 23, 29, \n",
      "Ciclos sin break 406\n",
      "\n",
      "-----------------------------------------------\n",
      "\n",
      "0, 1, 2, 3, 5, 7, 11, 13, 17, 19, 23, 29, \n",
      "Ciclos con break 135\n"
     ]
    }
   ],
   "source": [
    "\n",
    "cliclos_sin_break = 0\n",
    "top = 30\n",
    "n = 0\n",
    "primo = True\n",
    "while(n <= top):\n",
    "    for div in range(2,n):\n",
    "        cliclos_sin_break += 1\n",
    "        if(n % div == 0):\n",
    "            primo = False\n",
    "    if(primo):\n",
    "        print(n, end=\", \")\n",
    "    else:\n",
    "        primo = True\n",
    "    n += 1\n",
    "print(\"\")\n",
    "print(\"Ciclos sin break \" + str(cliclos_sin_break))\n",
    "\n",
    "print()\n",
    "print(\"-----------------------------------------------\")\n",
    "print()\n",
    "\n",
    "cliclos_con_break = 0\n",
    "top = 30\n",
    "n = 0\n",
    "primo = True\n",
    "while(n <= top):\n",
    "    for div in range(2,n):\n",
    "        cliclos_con_break += 1\n",
    "        if(n % div == 0):\n",
    "            primo = False\n",
    "            break\n",
    "    if(primo):\n",
    "        print(n, end=\", \")\n",
    "    else:\n",
    "        primo = True\n",
    "    n += 1\n",
    "print()\n",
    "print(\"Ciclos con break \" + str(cliclos_con_break))"
   ]
  },
  {
   "attachments": {},
   "cell_type": "markdown",
   "metadata": {},
   "source": [
    "12) Aplicando continue, armar un ciclo while que solo imprima los valores divisibles por 12, dentro del rango de números de 100 a 300"
   ]
  },
  {
   "cell_type": "code",
   "execution_count": 2,
   "metadata": {},
   "outputs": [
    {
     "name": "stdout",
     "output_type": "stream",
     "text": [
      "108, 120, 132, 144, 156, 168, 180, 192, 204, 216, 228, 240, 252, 264, 276, 288, 300, "
     ]
    }
   ],
   "source": [
    "i = 99\n",
    "while(i <= 300):\n",
    "    i += 1\n",
    "    if (i % 12 != 0):\n",
    "        continue\n",
    "    print(i, end=\", \")\n",
    "\n"
   ]
  },
  {
   "attachments": {},
   "cell_type": "markdown",
   "metadata": {},
   "source": [
    "13) Utilizar la función **input()** que permite hacer ingresos por teclado, para encontrar números primos y dar la opción al usario de buscar el siguiente"
   ]
  },
  {
   "cell_type": "code",
   "execution_count": 3,
   "metadata": {},
   "outputs": [
    {
     "name": "stdout",
     "output_type": "stream",
     "text": [
      "1\n",
      "¿Quieres buscar el siguiente numero primo, presiona 1 para si\n",
      "2\n",
      "¿Quieres buscar el siguiente numero primo, presiona 1 para si\n",
      "3\n",
      "¿Quieres buscar el siguiente numero primo, presiona 1 para si\n",
      "5\n",
      "¿Quieres buscar el siguiente numero primo, presiona 1 para si\n",
      "7\n",
      "¿Quieres buscar el siguiente numero primo, presiona 1 para si\n",
      "11\n",
      "¿Quieres buscar el siguiente numero primo, presiona 1 para si\n",
      "13\n",
      "¿Quieres buscar el siguiente numero primo, presiona 1 para si\n",
      "Fin del proceso\n"
     ]
    }
   ],
   "source": [
    "sigue = 1\n",
    "n = 1\n",
    "primo = True\n",
    "\n",
    "while(sigue == 1):\n",
    "    for div in range(2,n):\n",
    "        if(n%div == 0):\n",
    "            primo = False\n",
    "            break\n",
    "    if(primo):\n",
    "        print(n)\n",
    "        print(\"¿Quieres buscar el siguiente numero primo, presiona 1 para si\")\n",
    "        if(input() != \"1\"):\n",
    "            print(\"Fin del proceso\")\n",
    "            break\n",
    "    else:\n",
    "        primo=True\n",
    "    n+=1\n",
    "            \n",
    "\n",
    "\n"
   ]
  },
  {
   "attachments": {},
   "cell_type": "markdown",
   "metadata": {},
   "source": [
    "14) Crear un ciclo while que encuentre dentro del rango de 100 a 300 el primer número divisible por 3 y además múltiplo de 6"
   ]
  },
  {
   "cell_type": "code",
   "execution_count": 4,
   "metadata": {},
   "outputs": [
    {
     "name": "stdout",
     "output_type": "stream",
     "text": [
      "102\n"
     ]
    }
   ],
   "source": [
    "d = 100\n",
    "while(d <= 300):\n",
    "    if(d%3 == 0 and d%6 == 0):\n",
    "        print(d)\n",
    "        break\n",
    "    d+=1"
   ]
  }
 ],
 "metadata": {
  "interpreter": {
   "hash": "c85384e4cb51c8b72350f3a8712cc8351fdc3955e32a27f9b60c6242ab125f01"
  },
  "kernelspec": {
   "display_name": "Python 3 (ipykernel)",
   "language": "python",
   "name": "python3"
  },
  "language_info": {
   "codemirror_mode": {
    "name": "ipython",
    "version": 3
   },
   "file_extension": ".py",
   "mimetype": "text/x-python",
   "name": "python",
   "nbconvert_exporter": "python",
   "pygments_lexer": "ipython3",
   "version": "3.11.4"
  }
 },
 "nbformat": 4,
 "nbformat_minor": 4
}
